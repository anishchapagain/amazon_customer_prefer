{
 "cells": [
  {
   "cell_type": "markdown",
   "id": "d1f913aa",
   "metadata": {},
   "source": [
    "## Collected data in DF"
   ]
  },
  {
   "cell_type": "code",
   "execution_count": 10,
   "id": "bbd423bc",
   "metadata": {},
   "outputs": [],
   "source": [
    "import pandas as pd\n",
    "import json"
   ]
  },
  {
   "cell_type": "code",
   "execution_count": 24,
   "id": "32ae76cd",
   "metadata": {},
   "outputs": [],
   "source": [
    "file = 'dataset_final.json' # change the file name\n",
    "with open(file) as f:\n",
    "    data = json.load(f)\n",
    "df = pd.DataFrame.from_dict(data,orient=\"index\")\n"
   ]
  },
  {
   "cell_type": "code",
   "execution_count": 25,
   "id": "3627196a",
   "metadata": {},
   "outputs": [],
   "source": [
    "df.reset_index(inplace=True)\n",
    "df.rename(columns={'index': 'id'}, inplace=True)\n",
    "df.drop(columns=['id'], inplace=True)"
   ]
  },
  {
   "cell_type": "code",
   "execution_count": 26,
   "id": "b1130c23",
   "metadata": {},
   "outputs": [
    {
     "data": {
      "text/html": [
       "<div>\n",
       "<style scoped>\n",
       "    .dataframe tbody tr th:only-of-type {\n",
       "        vertical-align: middle;\n",
       "    }\n",
       "\n",
       "    .dataframe tbody tr th {\n",
       "        vertical-align: top;\n",
       "    }\n",
       "\n",
       "    .dataframe thead th {\n",
       "        text-align: right;\n",
       "    }\n",
       "</style>\n",
       "<table border=\"1\" class=\"dataframe\">\n",
       "  <thead>\n",
       "    <tr style=\"text-align: right;\">\n",
       "      <th></th>\n",
       "      <th>title</th>\n",
       "      <th>total_authors</th>\n",
       "      <th>author_1</th>\n",
       "      <th>authorDetailPageUrl_1</th>\n",
       "      <th>asin</th>\n",
       "      <th>imageUrl</th>\n",
       "      <th>rating</th>\n",
       "      <th>numberOfReviews</th>\n",
       "      <th>reviewsUrl</th>\n",
       "      <th>price</th>\n",
       "      <th>...</th>\n",
       "      <th>author_6</th>\n",
       "      <th>authorDetailPageUrl_6</th>\n",
       "      <th>author_7</th>\n",
       "      <th>authorDetailPageUrl_7</th>\n",
       "      <th>author_8</th>\n",
       "      <th>authorDetailPageUrl_8</th>\n",
       "      <th>author_9</th>\n",
       "      <th>authorDetailPageUrl_9</th>\n",
       "      <th>author_10</th>\n",
       "      <th>authorDetailPageUrl_10</th>\n",
       "    </tr>\n",
       "  </thead>\n",
       "  <tbody>\n",
       "    <tr>\n",
       "      <th>0</th>\n",
       "      <td>Web Scraping with Python: Data Extraction from...</td>\n",
       "      <td>1</td>\n",
       "      <td>Ryan Mitchell</td>\n",
       "      <td>https://www.amazon.com/Ryan-Mitchell/e/B00MQI8TVQ</td>\n",
       "      <td>1098145356</td>\n",
       "      <td>https://m.media-amazon.com/images/I/41m5xLb4nE...</td>\n",
       "      <td>4.3</td>\n",
       "      <td>14</td>\n",
       "      <td>https://www.amazon.com/product-reviews/1098145356</td>\n",
       "      <td>44.94</td>\n",
       "      <td>...</td>\n",
       "      <td>NaN</td>\n",
       "      <td>NaN</td>\n",
       "      <td>NaN</td>\n",
       "      <td>NaN</td>\n",
       "      <td>NaN</td>\n",
       "      <td>NaN</td>\n",
       "      <td>NaN</td>\n",
       "      <td>NaN</td>\n",
       "      <td>NaN</td>\n",
       "      <td>NaN</td>\n",
       "    </tr>\n",
       "    <tr>\n",
       "      <th>1</th>\n",
       "      <td>Python for Data Analysis: Data Wrangling with ...</td>\n",
       "      <td>1</td>\n",
       "      <td>Wes McKinney</td>\n",
       "      <td>https://www.amazon.com/Wes-McKinney/e/B00E5SITSI</td>\n",
       "      <td>109810403X</td>\n",
       "      <td>https://m.media-amazon.com/images/I/51J1XFfaD4...</td>\n",
       "      <td>4.6</td>\n",
       "      <td>409</td>\n",
       "      <td>https://www.amazon.com/product-reviews/109810403X</td>\n",
       "      <td>39.95</td>\n",
       "      <td>...</td>\n",
       "      <td>NaN</td>\n",
       "      <td>NaN</td>\n",
       "      <td>NaN</td>\n",
       "      <td>NaN</td>\n",
       "      <td>NaN</td>\n",
       "      <td>NaN</td>\n",
       "      <td>NaN</td>\n",
       "      <td>NaN</td>\n",
       "      <td>NaN</td>\n",
       "      <td>NaN</td>\n",
       "    </tr>\n",
       "    <tr>\n",
       "      <th>2</th>\n",
       "      <td>Python Automation Cookbook - Second Edition: 7...</td>\n",
       "      <td>1</td>\n",
       "      <td>Jaime Buelta</td>\n",
       "      <td>https://www.amazon.com/Jaime-Buelta/e/B07GC7F3XB</td>\n",
       "      <td>1800207085</td>\n",
       "      <td>https://m.media-amazon.com/images/I/51074xIZ9k...</td>\n",
       "      <td>4.4</td>\n",
       "      <td>99</td>\n",
       "      <td>https://www.amazon.com/product-reviews/1800207085</td>\n",
       "      <td>29.48</td>\n",
       "      <td>...</td>\n",
       "      <td>NaN</td>\n",
       "      <td>NaN</td>\n",
       "      <td>NaN</td>\n",
       "      <td>NaN</td>\n",
       "      <td>NaN</td>\n",
       "      <td>NaN</td>\n",
       "      <td>NaN</td>\n",
       "      <td>NaN</td>\n",
       "      <td>NaN</td>\n",
       "      <td>NaN</td>\n",
       "    </tr>\n",
       "    <tr>\n",
       "      <th>3</th>\n",
       "      <td>Prompt Engineering for Generative AI: Future-P...</td>\n",
       "      <td>2</td>\n",
       "      <td>James Phoenix</td>\n",
       "      <td>https://www.amazon.com/James-Phoenix/e/B0D3CNN7KC</td>\n",
       "      <td>109815343X</td>\n",
       "      <td>https://m.media-amazon.com/images/I/41HJgD3YU2...</td>\n",
       "      <td>4.4</td>\n",
       "      <td>57</td>\n",
       "      <td>https://www.amazon.com/product-reviews/109815343X</td>\n",
       "      <td>50.00</td>\n",
       "      <td>...</td>\n",
       "      <td>NaN</td>\n",
       "      <td>NaN</td>\n",
       "      <td>NaN</td>\n",
       "      <td>NaN</td>\n",
       "      <td>NaN</td>\n",
       "      <td>NaN</td>\n",
       "      <td>NaN</td>\n",
       "      <td>NaN</td>\n",
       "      <td>NaN</td>\n",
       "      <td>NaN</td>\n",
       "    </tr>\n",
       "    <tr>\n",
       "      <th>4</th>\n",
       "      <td>The New and Improved Flask Mega-Tutorial (2024...</td>\n",
       "      <td>1</td>\n",
       "      <td>Miguel Grinberg</td>\n",
       "      <td>https://www.amazon.com/Miguel-Grinberg/e/B00J2...</td>\n",
       "      <td>B0CPCTC64D</td>\n",
       "      <td>https://m.media-amazon.com/images/I/31N0QGEDPL...</td>\n",
       "      <td>4.6</td>\n",
       "      <td>153</td>\n",
       "      <td>https://www.amazon.com/product-reviews/B0CPCTC64D</td>\n",
       "      <td>34.99</td>\n",
       "      <td>...</td>\n",
       "      <td>NaN</td>\n",
       "      <td>NaN</td>\n",
       "      <td>NaN</td>\n",
       "      <td>NaN</td>\n",
       "      <td>NaN</td>\n",
       "      <td>NaN</td>\n",
       "      <td>NaN</td>\n",
       "      <td>NaN</td>\n",
       "      <td>NaN</td>\n",
       "      <td>NaN</td>\n",
       "    </tr>\n",
       "  </tbody>\n",
       "</table>\n",
       "<p>5 rows × 28 columns</p>\n",
       "</div>"
      ],
      "text/plain": [
       "                                               title  total_authors  \\\n",
       "0  Web Scraping with Python: Data Extraction from...              1   \n",
       "1  Python for Data Analysis: Data Wrangling with ...              1   \n",
       "2  Python Automation Cookbook - Second Edition: 7...              1   \n",
       "3  Prompt Engineering for Generative AI: Future-P...              2   \n",
       "4  The New and Improved Flask Mega-Tutorial (2024...              1   \n",
       "\n",
       "          author_1                              authorDetailPageUrl_1  \\\n",
       "0    Ryan Mitchell  https://www.amazon.com/Ryan-Mitchell/e/B00MQI8TVQ   \n",
       "1     Wes McKinney   https://www.amazon.com/Wes-McKinney/e/B00E5SITSI   \n",
       "2     Jaime Buelta   https://www.amazon.com/Jaime-Buelta/e/B07GC7F3XB   \n",
       "3    James Phoenix  https://www.amazon.com/James-Phoenix/e/B0D3CNN7KC   \n",
       "4  Miguel Grinberg  https://www.amazon.com/Miguel-Grinberg/e/B00J2...   \n",
       "\n",
       "         asin                                           imageUrl  rating  \\\n",
       "0  1098145356  https://m.media-amazon.com/images/I/41m5xLb4nE...     4.3   \n",
       "1  109810403X  https://m.media-amazon.com/images/I/51J1XFfaD4...     4.6   \n",
       "2  1800207085  https://m.media-amazon.com/images/I/51074xIZ9k...     4.4   \n",
       "3  109815343X  https://m.media-amazon.com/images/I/41HJgD3YU2...     4.4   \n",
       "4  B0CPCTC64D  https://m.media-amazon.com/images/I/31N0QGEDPL...     4.6   \n",
       "\n",
       "   numberOfReviews                                         reviewsUrl  price  \\\n",
       "0               14  https://www.amazon.com/product-reviews/1098145356  44.94   \n",
       "1              409  https://www.amazon.com/product-reviews/109810403X  39.95   \n",
       "2               99  https://www.amazon.com/product-reviews/1800207085  29.48   \n",
       "3               57  https://www.amazon.com/product-reviews/109815343X  50.00   \n",
       "4              153  https://www.amazon.com/product-reviews/B0CPCTC64D  34.99   \n",
       "\n",
       "   ... author_6 authorDetailPageUrl_6 author_7 authorDetailPageUrl_7 author_8  \\\n",
       "0  ...      NaN                   NaN      NaN                   NaN      NaN   \n",
       "1  ...      NaN                   NaN      NaN                   NaN      NaN   \n",
       "2  ...      NaN                   NaN      NaN                   NaN      NaN   \n",
       "3  ...      NaN                   NaN      NaN                   NaN      NaN   \n",
       "4  ...      NaN                   NaN      NaN                   NaN      NaN   \n",
       "\n",
       "  authorDetailPageUrl_8 author_9 authorDetailPageUrl_9 author_10  \\\n",
       "0                   NaN      NaN                   NaN       NaN   \n",
       "1                   NaN      NaN                   NaN       NaN   \n",
       "2                   NaN      NaN                   NaN       NaN   \n",
       "3                   NaN      NaN                   NaN       NaN   \n",
       "4                   NaN      NaN                   NaN       NaN   \n",
       "\n",
       "  authorDetailPageUrl_10  \n",
       "0                    NaN  \n",
       "1                    NaN  \n",
       "2                    NaN  \n",
       "3                    NaN  \n",
       "4                    NaN  \n",
       "\n",
       "[5 rows x 28 columns]"
      ]
     },
     "execution_count": 26,
     "metadata": {},
     "output_type": "execute_result"
    }
   ],
   "source": [
    "df.head()"
   ]
  },
  {
   "cell_type": "code",
   "execution_count": 27,
   "id": "55372c46",
   "metadata": {},
   "outputs": [
    {
     "data": {
      "text/plain": [
       "309    Python Machine Learning By Example: Unlock mac...\n",
       "155       HTML, CSS, & JavaScript All-in-One For Dummies\n",
       "62     Pandas for Everyone: Python Data Analysis (Add...\n",
       "396    Automating Excel with Python: Processing Sprea...\n",
       "416    Building Python Microservices with FastAPI: Bu...\n",
       "113    Learning LangChain: Building AI and LLM Applic...\n",
       "418    Building Web Apps with Python and Flask: Learn...\n",
       "169    Beginner's Step-by-Step Coding Course: Learn C...\n",
       "380    Before Machine Learning Volume 2 - Calculus fo...\n",
       "190        C# 12 in a Nutshell: The Definitive Reference\n",
       "101    Unlocking the Secrets of Prompt Engineering: M...\n",
       "388    Impractical Python Projects: Playful Programmi...\n",
       "280        Hacking: The Art of Exploitation, 2nd Edition\n",
       "286    Cybersecurity for Small Networks: A Guide for ...\n",
       "84     SQL for Data Analysis: Advanced Techniques for...\n",
       "237    Command-Line Rust: A Project-Based Primer for ...\n",
       "93     Data Analytics for Absolute Beginners: A Decon...\n",
       "189    Full Stack Web Development: A Comprehensive, H...\n",
       "319    ALGO TRADING CHEAT CODES: Techniques For Trade...\n",
       "166    Learning Web Design: A Beginner's Guide to HTM...\n",
       "Name: title, dtype: object"
      ]
     },
     "execution_count": 27,
     "metadata": {},
     "output_type": "execute_result"
    }
   ],
   "source": [
    "df[\"title\"].sample(20)"
   ]
  },
  {
   "cell_type": "code",
   "execution_count": 28,
   "id": "5918ef00",
   "metadata": {},
   "outputs": [
    {
     "data": {
      "text/plain": [
       "0      44.94\n",
       "1      39.95\n",
       "2      29.48\n",
       "3      50.00\n",
       "4      34.99\n",
       "       ...  \n",
       "414    36.69\n",
       "415    21.00\n",
       "416    44.85\n",
       "417    34.99\n",
       "418    24.95\n",
       "Name: price, Length: 419, dtype: object"
      ]
     },
     "execution_count": 28,
     "metadata": {},
     "output_type": "execute_result"
    }
   ],
   "source": [
    "df[\"price\"]"
   ]
  },
  {
   "cell_type": "code",
   "execution_count": 29,
   "id": "79fc26ff",
   "metadata": {},
   "outputs": [
    {
     "data": {
      "text/plain": [
       "count       419\n",
       "unique      323\n",
       "top       39.99\n",
       "freq          8\n",
       "Name: price, dtype: object"
      ]
     },
     "execution_count": 29,
     "metadata": {},
     "output_type": "execute_result"
    }
   ],
   "source": [
    "df[\"price\"].describe()"
   ]
  },
  {
   "cell_type": "code",
   "execution_count": 30,
   "id": "6d13679b",
   "metadata": {},
   "outputs": [],
   "source": [
    "df[\"price\"] = df[\"price\"].replace('[\\$,]', '', regex=True).astype(float).astype(int)"
   ]
  },
  {
   "cell_type": "code",
   "execution_count": 31,
   "id": "5cc553d8",
   "metadata": {},
   "outputs": [
    {
     "data": {
      "text/plain": [
       "count    419.000000\n",
       "mean      32.391408\n",
       "std       14.848341\n",
       "min        5.000000\n",
       "25%       22.000000\n",
       "50%       31.000000\n",
       "75%       41.000000\n",
       "max      123.000000\n",
       "Name: price, dtype: float64"
      ]
     },
     "execution_count": 31,
     "metadata": {},
     "output_type": "execute_result"
    }
   ],
   "source": [
    "df[\"price\"].describe()"
   ]
  },
  {
   "cell_type": "code",
   "execution_count": 32,
   "id": "5e20a330",
   "metadata": {},
   "outputs": [
    {
     "name": "stdout",
     "output_type": "stream",
     "text": [
      "<class 'pandas.core.frame.DataFrame'>\n",
      "RangeIndex: 419 entries, 0 to 418\n",
      "Data columns (total 28 columns):\n",
      " #   Column                  Non-Null Count  Dtype  \n",
      "---  ------                  --------------  -----  \n",
      " 0   title                   419 non-null    object \n",
      " 1   total_authors           419 non-null    int64  \n",
      " 2   author_1                419 non-null    object \n",
      " 3   authorDetailPageUrl_1   419 non-null    object \n",
      " 4   asin                    419 non-null    object \n",
      " 5   imageUrl                419 non-null    object \n",
      " 6   rating                  419 non-null    float64\n",
      " 7   numberOfReviews         419 non-null    int64  \n",
      " 8   reviewsUrl              419 non-null    object \n",
      " 9   price                   419 non-null    int64  \n",
      " 10  author_2                99 non-null     object \n",
      " 11  authorDetailPageUrl_2   99 non-null     object \n",
      " 12  author_3                31 non-null     object \n",
      " 13  authorDetailPageUrl_3   31 non-null     object \n",
      " 14  author_4                13 non-null     object \n",
      " 15  authorDetailPageUrl_4   13 non-null     object \n",
      " 16  author_5                3 non-null      object \n",
      " 17  authorDetailPageUrl_5   3 non-null      object \n",
      " 18  author_6                1 non-null      object \n",
      " 19  authorDetailPageUrl_6   1 non-null      object \n",
      " 20  author_7                1 non-null      object \n",
      " 21  authorDetailPageUrl_7   1 non-null      object \n",
      " 22  author_8                1 non-null      object \n",
      " 23  authorDetailPageUrl_8   1 non-null      object \n",
      " 24  author_9                1 non-null      object \n",
      " 25  authorDetailPageUrl_9   1 non-null      object \n",
      " 26  author_10               1 non-null      object \n",
      " 27  authorDetailPageUrl_10  1 non-null      object \n",
      "dtypes: float64(1), int64(3), object(24)\n",
      "memory usage: 91.8+ KB\n"
     ]
    }
   ],
   "source": [
    "df.info()"
   ]
  },
  {
   "cell_type": "code",
   "execution_count": null,
   "id": "5533f3f6",
   "metadata": {},
   "outputs": [],
   "source": []
  }
 ],
 "metadata": {
  "kernelspec": {
   "display_name": ".venv",
   "language": "python",
   "name": "python3"
  },
  "language_info": {
   "codemirror_mode": {
    "name": "ipython",
    "version": 3
   },
   "file_extension": ".py",
   "mimetype": "text/x-python",
   "name": "python",
   "nbconvert_exporter": "python",
   "pygments_lexer": "ipython3",
   "version": "3.11.9"
  }
 },
 "nbformat": 4,
 "nbformat_minor": 5
}
