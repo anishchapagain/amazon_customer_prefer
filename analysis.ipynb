{
 "cells": [
  {
   "cell_type": "code",
   "execution_count": 10,
   "id": "bbd423bc",
   "metadata": {},
   "outputs": [],
   "source": [
    "import pandas as pd\n",
    "import json"
   ]
  },
  {
   "cell_type": "code",
   "execution_count": 13,
   "id": "32ae76cd",
   "metadata": {},
   "outputs": [],
   "source": [
    "file = 'dataset_final.json'\n",
    "with open(file) as f:\n",
    "    data = json.load(f)\n",
    "df = pd.DataFrame.from_dict(data,orient=\"index\")\n"
   ]
  },
  {
   "cell_type": "code",
   "execution_count": 16,
   "id": "3627196a",
   "metadata": {},
   "outputs": [],
   "source": [
    "df.reset_index(inplace=True)\n",
    "df.rename(columns={'index': 'id'}, inplace=True)\n",
    "df.drop(columns=['id'], inplace=True)"
   ]
  },
  {
   "cell_type": "code",
   "execution_count": 17,
   "id": "b1130c23",
   "metadata": {},
   "outputs": [
    {
     "data": {
      "text/html": [
       "<div>\n",
       "<style scoped>\n",
       "    .dataframe tbody tr th:only-of-type {\n",
       "        vertical-align: middle;\n",
       "    }\n",
       "\n",
       "    .dataframe tbody tr th {\n",
       "        vertical-align: top;\n",
       "    }\n",
       "\n",
       "    .dataframe thead th {\n",
       "        text-align: right;\n",
       "    }\n",
       "</style>\n",
       "<table border=\"1\" class=\"dataframe\">\n",
       "  <thead>\n",
       "    <tr style=\"text-align: right;\">\n",
       "      <th></th>\n",
       "      <th>title</th>\n",
       "      <th>total_authors</th>\n",
       "      <th>author_1</th>\n",
       "      <th>authorDetailPageUrl_1</th>\n",
       "      <th>asin</th>\n",
       "      <th>imageUrl</th>\n",
       "      <th>rating</th>\n",
       "      <th>numberOfReviews</th>\n",
       "      <th>reviewsUrl</th>\n",
       "      <th>price</th>\n",
       "      <th>...</th>\n",
       "      <th>author_6</th>\n",
       "      <th>authorDetailPageUrl_6</th>\n",
       "      <th>author_7</th>\n",
       "      <th>authorDetailPageUrl_7</th>\n",
       "      <th>author_8</th>\n",
       "      <th>authorDetailPageUrl_8</th>\n",
       "      <th>author_9</th>\n",
       "      <th>authorDetailPageUrl_9</th>\n",
       "      <th>author_10</th>\n",
       "      <th>authorDetailPageUrl_10</th>\n",
       "    </tr>\n",
       "  </thead>\n",
       "  <tbody>\n",
       "    <tr>\n",
       "      <th>0</th>\n",
       "      <td>Designing Machine Learning Systems: An Iterati...</td>\n",
       "      <td>1</td>\n",
       "      <td>Chip Huyen</td>\n",
       "      <td>https://www.amazon.com/Chip-Huyen/e/B09XVPTZMB</td>\n",
       "      <td>1098107969</td>\n",
       "      <td>https://m.media-amazon.com/images/I/412UGQGrdK...</td>\n",
       "      <td>4.6</td>\n",
       "      <td>721</td>\n",
       "      <td>https://www.amazon.com/product-reviews/1098107969</td>\n",
       "      <td>40.00</td>\n",
       "      <td>...</td>\n",
       "      <td>NaN</td>\n",
       "      <td>NaN</td>\n",
       "      <td>NaN</td>\n",
       "      <td>NaN</td>\n",
       "      <td>NaN</td>\n",
       "      <td>NaN</td>\n",
       "      <td>NaN</td>\n",
       "      <td>NaN</td>\n",
       "      <td>NaN</td>\n",
       "      <td>NaN</td>\n",
       "    </tr>\n",
       "    <tr>\n",
       "      <th>1</th>\n",
       "      <td>LLM Engineer's Handbook: Master the art of eng...</td>\n",
       "      <td>2</td>\n",
       "      <td>Paul Iusztin</td>\n",
       "      <td>https://www.amazon.com/Paul-Iusztin/e/B0DFCCNCXR</td>\n",
       "      <td>1836200072</td>\n",
       "      <td>https://m.media-amazon.com/images/I/41rTRhNKV0...</td>\n",
       "      <td>4.5</td>\n",
       "      <td>95</td>\n",
       "      <td>https://www.amazon.com/product-reviews/1836200072</td>\n",
       "      <td>59.99</td>\n",
       "      <td>...</td>\n",
       "      <td>NaN</td>\n",
       "      <td>NaN</td>\n",
       "      <td>NaN</td>\n",
       "      <td>NaN</td>\n",
       "      <td>NaN</td>\n",
       "      <td>NaN</td>\n",
       "      <td>NaN</td>\n",
       "      <td>NaN</td>\n",
       "      <td>NaN</td>\n",
       "      <td>NaN</td>\n",
       "    </tr>\n",
       "    <tr>\n",
       "      <th>2</th>\n",
       "      <td>Build a Large Language Model (From Scratch)</td>\n",
       "      <td>1</td>\n",
       "      <td>Sebastian Raschka</td>\n",
       "      <td>https://www.amazon.com/Sebastian-Raschka/e/B00...</td>\n",
       "      <td>1633437167</td>\n",
       "      <td>https://m.media-amazon.com/images/I/41yqngwddy...</td>\n",
       "      <td>4.6</td>\n",
       "      <td>205</td>\n",
       "      <td>https://www.amazon.com/product-reviews/1633437167</td>\n",
       "      <td>47.40</td>\n",
       "      <td>...</td>\n",
       "      <td>NaN</td>\n",
       "      <td>NaN</td>\n",
       "      <td>NaN</td>\n",
       "      <td>NaN</td>\n",
       "      <td>NaN</td>\n",
       "      <td>NaN</td>\n",
       "      <td>NaN</td>\n",
       "      <td>NaN</td>\n",
       "      <td>NaN</td>\n",
       "      <td>NaN</td>\n",
       "    </tr>\n",
       "    <tr>\n",
       "      <th>3</th>\n",
       "      <td>Building Agentic AI Systems: Create intelligen...</td>\n",
       "      <td>2</td>\n",
       "      <td>Anjanava Biswas</td>\n",
       "      <td>https://www.amazon.com/Anjanava-Biswas/e/B0F2J...</td>\n",
       "      <td>1803238755</td>\n",
       "      <td>https://m.media-amazon.com/images/I/41oX9V4dOQ...</td>\n",
       "      <td>4.5</td>\n",
       "      <td>20</td>\n",
       "      <td>https://www.amazon.com/product-reviews/1803238755</td>\n",
       "      <td>49.99</td>\n",
       "      <td>...</td>\n",
       "      <td>NaN</td>\n",
       "      <td>NaN</td>\n",
       "      <td>NaN</td>\n",
       "      <td>NaN</td>\n",
       "      <td>NaN</td>\n",
       "      <td>NaN</td>\n",
       "      <td>NaN</td>\n",
       "      <td>NaN</td>\n",
       "      <td>NaN</td>\n",
       "      <td>NaN</td>\n",
       "    </tr>\n",
       "    <tr>\n",
       "      <th>4</th>\n",
       "      <td>AI Agents in Action</td>\n",
       "      <td>1</td>\n",
       "      <td>Micheal Lanham</td>\n",
       "      <td>https://www.amazon.com/Micheal-Lanham/e/B07BPS...</td>\n",
       "      <td>1633436349</td>\n",
       "      <td>https://m.media-amazon.com/images/I/419W7MaaHB...</td>\n",
       "      <td>4.4</td>\n",
       "      <td>10</td>\n",
       "      <td>https://www.amazon.com/product-reviews/1633436349</td>\n",
       "      <td>49.49</td>\n",
       "      <td>...</td>\n",
       "      <td>NaN</td>\n",
       "      <td>NaN</td>\n",
       "      <td>NaN</td>\n",
       "      <td>NaN</td>\n",
       "      <td>NaN</td>\n",
       "      <td>NaN</td>\n",
       "      <td>NaN</td>\n",
       "      <td>NaN</td>\n",
       "      <td>NaN</td>\n",
       "      <td>NaN</td>\n",
       "    </tr>\n",
       "  </tbody>\n",
       "</table>\n",
       "<p>5 rows × 28 columns</p>\n",
       "</div>"
      ],
      "text/plain": [
       "                                               title  total_authors  \\\n",
       "0  Designing Machine Learning Systems: An Iterati...              1   \n",
       "1  LLM Engineer's Handbook: Master the art of eng...              2   \n",
       "2        Build a Large Language Model (From Scratch)              1   \n",
       "3  Building Agentic AI Systems: Create intelligen...              2   \n",
       "4                                AI Agents in Action              1   \n",
       "\n",
       "            author_1                              authorDetailPageUrl_1  \\\n",
       "0         Chip Huyen     https://www.amazon.com/Chip-Huyen/e/B09XVPTZMB   \n",
       "1       Paul Iusztin   https://www.amazon.com/Paul-Iusztin/e/B0DFCCNCXR   \n",
       "2  Sebastian Raschka  https://www.amazon.com/Sebastian-Raschka/e/B00...   \n",
       "3    Anjanava Biswas  https://www.amazon.com/Anjanava-Biswas/e/B0F2J...   \n",
       "4     Micheal Lanham  https://www.amazon.com/Micheal-Lanham/e/B07BPS...   \n",
       "\n",
       "         asin                                           imageUrl  rating  \\\n",
       "0  1098107969  https://m.media-amazon.com/images/I/412UGQGrdK...     4.6   \n",
       "1  1836200072  https://m.media-amazon.com/images/I/41rTRhNKV0...     4.5   \n",
       "2  1633437167  https://m.media-amazon.com/images/I/41yqngwddy...     4.6   \n",
       "3  1803238755  https://m.media-amazon.com/images/I/41oX9V4dOQ...     4.5   \n",
       "4  1633436349  https://m.media-amazon.com/images/I/419W7MaaHB...     4.4   \n",
       "\n",
       "   numberOfReviews                                         reviewsUrl  price  \\\n",
       "0              721  https://www.amazon.com/product-reviews/1098107969  40.00   \n",
       "1               95  https://www.amazon.com/product-reviews/1836200072  59.99   \n",
       "2              205  https://www.amazon.com/product-reviews/1633437167  47.40   \n",
       "3               20  https://www.amazon.com/product-reviews/1803238755  49.99   \n",
       "4               10  https://www.amazon.com/product-reviews/1633436349  49.49   \n",
       "\n",
       "   ... author_6 authorDetailPageUrl_6 author_7 authorDetailPageUrl_7 author_8  \\\n",
       "0  ...      NaN                   NaN      NaN                   NaN      NaN   \n",
       "1  ...      NaN                   NaN      NaN                   NaN      NaN   \n",
       "2  ...      NaN                   NaN      NaN                   NaN      NaN   \n",
       "3  ...      NaN                   NaN      NaN                   NaN      NaN   \n",
       "4  ...      NaN                   NaN      NaN                   NaN      NaN   \n",
       "\n",
       "  authorDetailPageUrl_8 author_9 authorDetailPageUrl_9 author_10  \\\n",
       "0                   NaN      NaN                   NaN       NaN   \n",
       "1                   NaN      NaN                   NaN       NaN   \n",
       "2                   NaN      NaN                   NaN       NaN   \n",
       "3                   NaN      NaN                   NaN       NaN   \n",
       "4                   NaN      NaN                   NaN       NaN   \n",
       "\n",
       "  authorDetailPageUrl_10  \n",
       "0                    NaN  \n",
       "1                    NaN  \n",
       "2                    NaN  \n",
       "3                    NaN  \n",
       "4                    NaN  \n",
       "\n",
       "[5 rows x 28 columns]"
      ]
     },
     "execution_count": 17,
     "metadata": {},
     "output_type": "execute_result"
    }
   ],
   "source": [
    "df.head()"
   ]
  },
  {
   "cell_type": "code",
   "execution_count": 18,
   "id": "55372c46",
   "metadata": {},
   "outputs": [
    {
     "data": {
      "text/plain": [
       "153    LangGraph in Action: Building Intelligent Syst...\n",
       "243    Everything Is Predictable: How Bayesian Statis...\n",
       "33                          Machine Learning Engineering\n",
       "284    Becoming a Data Head: How to Think, Speak, and...\n",
       "244    Beautiful Math: The Surprisingly Simple Ideas ...\n",
       "223    Deep Learning with TensorFlow and Keras: Build...\n",
       "266    Python for Algorithmic Trading Cookbook: Recip...\n",
       "196    Mastering Agentic AI Workflows: Building Auton...\n",
       "186    The Elements of Statistical Learning: Data Min...\n",
       "29     The Hundred-Page Machine Learning Book (The Hu...\n",
       "270    Genesis: Artificial Intelligence, Hope, and th...\n",
       "208    AI-Assisted Programming for Web and Machine Le...\n",
       "178    Machine Learning Engineering with Python: Mana...\n",
       "51     Deciphering Data Architectures: Choosing Betwe...\n",
       "230    Practical Prompt Engineering: A Step-by-Step G...\n",
       "135    Empowered: Ordinary People, Extraordinary Prod...\n",
       "116     Reimagined: Building Products with Generative AI\n",
       "161    Naming Things: The Hardest Problem in Software...\n",
       "176    Deep Learning (Adaptive Computation and Machin...\n",
       "199                2034: How AI Changed Humanity Forever\n",
       "Name: title, dtype: object"
      ]
     },
     "execution_count": 18,
     "metadata": {},
     "output_type": "execute_result"
    }
   ],
   "source": [
    "df[\"title\"].sample(20)"
   ]
  },
  {
   "cell_type": "code",
   "execution_count": 19,
   "id": "5918ef00",
   "metadata": {},
   "outputs": [
    {
     "data": {
      "text/plain": [
       "0      40.00\n",
       "1      59.99\n",
       "2      47.40\n",
       "3      49.99\n",
       "4      49.49\n",
       "       ...  \n",
       "294    38.37\n",
       "295    11.99\n",
       "296    20.51\n",
       "297    12.99\n",
       "298    35.31\n",
       "Name: price, Length: 299, dtype: object"
      ]
     },
     "execution_count": 19,
     "metadata": {},
     "output_type": "execute_result"
    }
   ],
   "source": [
    "df[\"price\"]"
   ]
  },
  {
   "cell_type": "code",
   "execution_count": 20,
   "id": "79fc26ff",
   "metadata": {},
   "outputs": [
    {
     "data": {
      "text/plain": [
       "count       299\n",
       "unique      240\n",
       "top       15.99\n",
       "freq          5\n",
       "Name: price, dtype: object"
      ]
     },
     "execution_count": 20,
     "metadata": {},
     "output_type": "execute_result"
    }
   ],
   "source": [
    "df[\"price\"].describe()"
   ]
  },
  {
   "cell_type": "code",
   "execution_count": 21,
   "id": "6d13679b",
   "metadata": {},
   "outputs": [],
   "source": [
    "df[\"price\"] = df[\"price\"].replace('[\\$,]', '', regex=True).astype(float).astype(int)"
   ]
  },
  {
   "cell_type": "code",
   "execution_count": 22,
   "id": "5cc553d8",
   "metadata": {},
   "outputs": [
    {
     "data": {
      "text/plain": [
       "count    299.000000\n",
       "mean      33.531773\n",
       "std       17.039674\n",
       "min        4.000000\n",
       "25%       19.000000\n",
       "50%       34.000000\n",
       "75%       44.000000\n",
       "max      148.000000\n",
       "Name: price, dtype: float64"
      ]
     },
     "execution_count": 22,
     "metadata": {},
     "output_type": "execute_result"
    }
   ],
   "source": [
    "df[\"price\"].describe()"
   ]
  },
  {
   "cell_type": "code",
   "execution_count": 23,
   "id": "5e20a330",
   "metadata": {},
   "outputs": [
    {
     "name": "stdout",
     "output_type": "stream",
     "text": [
      "<class 'pandas.core.frame.DataFrame'>\n",
      "RangeIndex: 299 entries, 0 to 298\n",
      "Data columns (total 28 columns):\n",
      " #   Column                  Non-Null Count  Dtype  \n",
      "---  ------                  --------------  -----  \n",
      " 0   title                   299 non-null    object \n",
      " 1   total_authors           299 non-null    int64  \n",
      " 2   author_1                299 non-null    object \n",
      " 3   authorDetailPageUrl_1   299 non-null    object \n",
      " 4   asin                    299 non-null    object \n",
      " 5   imageUrl                299 non-null    object \n",
      " 6   rating                  299 non-null    float64\n",
      " 7   numberOfReviews         299 non-null    int64  \n",
      " 8   reviewsUrl              299 non-null    object \n",
      " 9   price                   299 non-null    int64  \n",
      " 10  author_2                93 non-null     object \n",
      " 11  authorDetailPageUrl_2   93 non-null     object \n",
      " 12  author_3                44 non-null     object \n",
      " 13  authorDetailPageUrl_3   44 non-null     object \n",
      " 14  author_4                17 non-null     object \n",
      " 15  authorDetailPageUrl_4   17 non-null     object \n",
      " 16  author_5                7 non-null      object \n",
      " 17  authorDetailPageUrl_5   7 non-null      object \n",
      " 18  author_6                4 non-null      object \n",
      " 19  authorDetailPageUrl_6   4 non-null      object \n",
      " 20  author_7                4 non-null      object \n",
      " 21  authorDetailPageUrl_7   4 non-null      object \n",
      " 22  author_8                4 non-null      object \n",
      " 23  authorDetailPageUrl_8   4 non-null      object \n",
      " 24  author_9                4 non-null      object \n",
      " 25  authorDetailPageUrl_9   4 non-null      object \n",
      " 26  author_10               2 non-null      object \n",
      " 27  authorDetailPageUrl_10  2 non-null      object \n",
      "dtypes: float64(1), int64(3), object(24)\n",
      "memory usage: 65.5+ KB\n"
     ]
    }
   ],
   "source": [
    "df.info()"
   ]
  },
  {
   "cell_type": "code",
   "execution_count": null,
   "id": "5533f3f6",
   "metadata": {},
   "outputs": [],
   "source": []
  }
 ],
 "metadata": {
  "kernelspec": {
   "display_name": ".venv",
   "language": "python",
   "name": "python3"
  },
  "language_info": {
   "codemirror_mode": {
    "name": "ipython",
    "version": 3
   },
   "file_extension": ".py",
   "mimetype": "text/x-python",
   "name": "python",
   "nbconvert_exporter": "python",
   "pygments_lexer": "ipython3",
   "version": "3.11.9"
  }
 },
 "nbformat": 4,
 "nbformat_minor": 5
}
